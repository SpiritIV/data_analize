{
 "cells": [
  {
   "cell_type": "markdown",
   "metadata": {},
   "source": [
    "#### 1. Для реализованной в методичке модели градиентного бустинга построить графики зависимости ошибки от количества деревьев в ансамбле и от максимальной глубины деревьев. Сделать выводы о зависимости ошибки от этих параметров."
   ]
  },
  {
   "cell_type": "code",
   "execution_count": 1,
   "metadata": {
    "colab": {},
    "colab_type": "code",
    "id": "Qk-74OFhbshx"
   },
   "outputs": [],
   "source": [
    "from sklearn.tree import DecisionTreeRegressor\n",
    "\n",
    "from sklearn import model_selection\n",
    "import numpy as np"
   ]
  },
  {
   "cell_type": "code",
   "execution_count": 2,
   "metadata": {
    "colab": {},
    "colab_type": "code",
    "id": "eDZbSvqMbsh1"
   },
   "outputs": [],
   "source": [
    "from sklearn.datasets import load_diabetes"
   ]
  },
  {
   "cell_type": "code",
   "execution_count": 3,
   "metadata": {
    "colab": {},
    "colab_type": "code",
    "id": "leu8bBI7bsh6"
   },
   "outputs": [],
   "source": [
    "X, y = load_diabetes(return_X_y=True)"
   ]
  },
  {
   "cell_type": "code",
   "execution_count": 4,
   "metadata": {
    "colab": {},
    "colab_type": "code",
    "id": "ExZPR9FLbsh9"
   },
   "outputs": [],
   "source": [
    "X_train, X_test, y_train, y_test = model_selection.train_test_split(X, y, test_size=0.25)"
   ]
  },
  {
   "cell_type": "code",
   "execution_count": 5,
   "metadata": {
    "colab": {},
    "colab_type": "code",
    "id": "wU_Rkc63bsiA"
   },
   "outputs": [],
   "source": [
    "# Добавлен коэффициент b0 в алгоритм предсказывания\n",
    "\n",
    "def gb_predict(X, trees_list, coef_list, eta, b0=0):\n",
    "    return np.array([sum([b0 + eta* coef * alg.predict([x])[0] for alg, coef in zip(trees_list, coef_list)]) for x in X])"
   ]
  },
  {
   "cell_type": "code",
   "execution_count": 6,
   "metadata": {
    "colab": {},
    "colab_type": "code",
    "id": "0xbjFIEKbsiE"
   },
   "outputs": [],
   "source": [
    "def mean_squared_error(y_real, prediction):\n",
    "    return (sum((y_real - prediction)**2)) / len(y_real)"
   ]
  },
  {
   "cell_type": "code",
   "execution_count": 7,
   "metadata": {
    "colab": {},
    "colab_type": "code",
    "id": "WRaZEd3ebsiI"
   },
   "outputs": [],
   "source": [
    "def bias(y, z):\n",
    "    return (y - z)"
   ]
  },
  {
   "cell_type": "markdown",
   "metadata": {},
   "source": [
    "##### b0_start - режим вычислений b0\n",
    "- 'mean' - среднее по выборке y_train\n",
    "- 'zero' - инициализация нулём"
   ]
  },
  {
   "cell_type": "code",
   "execution_count": 8,
   "metadata": {
    "colab": {},
    "colab_type": "code",
    "id": "HoIdAoPYbsiL"
   },
   "outputs": [],
   "source": [
    "# Добавлен b0. \n",
    "\n",
    "def gb_fit(n_trees, max_depth, X_train, X_test, y_train, y_test, coefs, eta, b0_start='zero'):\n",
    "    \n",
    "    b0 = 0\n",
    "    \n",
    "    if b0_start != 'zero':\n",
    "        b0 = np.mean(y_train)\n",
    "       \n",
    "    \n",
    "    # Деревья будем записывать в список\n",
    "    trees = []\n",
    "    \n",
    "    # Будем записывать ошибки на обучающей и тестовой выборке на каждой итерации в список\n",
    "    train_errors = []\n",
    "    test_errors = []\n",
    "    \n",
    "    for i in range(n_trees):\n",
    "        \n",
    "        tree = DecisionTreeRegressor(max_depth=max_depth, random_state=42)\n",
    "    \n",
    "        target = gb_predict(X_train, trees, coefs, eta, b0)\n",
    "        tree.fit(X_train, bias(y_train, target))\n",
    "        train_errors.append(mean_squared_error(y_train, gb_predict(X_train, trees, coefs, eta)))\n",
    "        test_errors.append(mean_squared_error(y_test, gb_predict(X_test, trees, coefs, eta)))\n",
    "\n",
    "        trees.append(tree)\n",
    "        \n",
    "    return trees, train_errors, test_errors"
   ]
  },
  {
   "cell_type": "code",
   "execution_count": 9,
   "metadata": {
    "colab": {},
    "colab_type": "code",
    "id": "2WvxluSlbsiO"
   },
   "outputs": [],
   "source": [
    "# Число деревьев в ансамбле\n",
    "n_trees_start = 10\n",
    "n_trees = []\n",
    "\n",
    "# для простоты примем коэффициенты равными 1\n",
    "coefs = [1] * n_trees_start\n",
    "\n",
    "# Максимальная глубина деревьев\n",
    "max_depth_start = 1\n",
    "max_depth = []\n",
    "\n",
    "# Шаг\n",
    "eta = 1\n",
    "\n",
    "# Начальный алгоритм. Режимы работы описаны перед инициализацией gb_fit\n",
    "b0_mode = 'zero'\n",
    "\n",
    "train_error_list = []\n",
    "test_error_list = []\n",
    "\n",
    "while n_trees_start < 30:\n",
    "    coefs = [1] * n_trees_start\n",
    "    trees, train_errors, test_errors = gb_fit(n_trees_start, max_depth_start, X_train, X_test, y_train, y_test, coefs, eta, b0_mode)\n",
    "    train_error_list.append(np.mean(train_errors))\n",
    "    test_error_list.append(np.mean(test_errors))\n",
    "    n_trees.append(n_trees_start)\n",
    "    max_depth.append(max_depth_start)\n",
    "    max_depth_start += 1\n",
    "    n_trees_start += 5"
   ]
  },
  {
   "cell_type": "code",
   "execution_count": 10,
   "metadata": {
    "colab": {},
    "colab_type": "code",
    "id": "QXrSdSgjbsic"
   },
   "outputs": [],
   "source": [
    "import matplotlib.pyplot as plt"
   ]
  },
  {
   "cell_type": "code",
   "execution_count": 11,
   "metadata": {
    "colab": {},
    "colab_type": "code",
    "id": "gjDdKkgObsif"
   },
   "outputs": [],
   "source": [
    "def get_error_trees_plot(n_trees, train_err, test_err):\n",
    "    plt.xlabel('Number of trees')\n",
    "    plt.ylabel(\"Error's value\")\n",
    "    plt.plot(n_trees, train_err, label='train error')\n",
    "    plt.plot(n_trees,  test_err, label='test error')\n",
    "    \n",
    "    plt.legend(loc='upper right')\n",
    "    plt.show()"
   ]
  },
  {
   "cell_type": "code",
   "execution_count": 12,
   "metadata": {
    "colab": {
     "base_uri": "https://localhost:8080/",
     "height": 279
    },
    "colab_type": "code",
    "executionInfo": {
     "elapsed": 4134,
     "status": "ok",
     "timestamp": 1582390570438,
     "user": {
      "displayName": "Sergei Shirkin",
      "photoUrl": "https://lh3.googleusercontent.com/a-/AAuE7mDaKqSXfiXxzFEqAhKnxXiuXzkkjjCSR0NQuWxc=s64",
      "userId": "16418138665736802491"
     },
     "user_tz": -180
    },
    "id": "Was5hOJPbsih",
    "outputId": "797f1368-f60e-4c3a-ea1e-8d0cfd402780"
   },
   "outputs": [
    {
     "data": {
      "image/png": "[encoded data removed]",
      "text/plain": [
       "<Figure size 432x288 with 1 Axes>"
      ]
     },
     "metadata": {
      "needs_background": "light"
     },
     "output_type": "display_data"
    }
   ],
   "source": [
    "get_error_trees_plot(n_trees, train_error_list, test_error_list)"
   ]
  },
  {
   "cell_type": "code",
   "execution_count": 13,
   "metadata": {},
   "outputs": [],
   "source": [
    "def get_error_depth_plot(max_depth, train_err, test_err):\n",
    "    plt.xlabel(\"Depth\")\n",
    "    plt.ylabel(\"Error's value\")\n",
    "    plt.plot(max_depth, train_err, label='train error')\n",
    "    plt.plot(max_depth, test_err, label='test error')\n",
    "    \n",
    "    plt.legend(loc='upper right')\n",
    "    plt.show()"
   ]
  },
  {
   "cell_type": "code",
   "execution_count": 14,
   "metadata": {},
   "outputs": [
    {
     "data": {
      "image/png": "[encoded data removed]",
      "text/plain": [
       "<Figure size 432x288 with 1 Axes>"
      ]
     },
     "metadata": {
      "needs_background": "light"
     },
     "output_type": "display_data"
    }
   ],
   "source": [
    "get_error_depth_plot(max_depth, train_error_list, test_error_list)"
   ]
  },
  {
   "cell_type": "markdown",
   "metadata": {},
   "source": [
    "##### Вывод: исходя из графиков можно сказать, что при увеличении глубины и числа деревьев возможно наступление переобучения."
   ]
  },
  {
   "cell_type": "markdown",
   "metadata": {},
   "source": [
    "#### 2*. Модифицировать реализованный алгоритм, чтобы получился стохастический градиентный бустинг. Размер подвыборки принять равным 0.5. Сравнить на одном графике кривые  изменения ошибки на тестовой выборке в зависимости от  числа итераций."
   ]
  },
  {
   "cell_type": "code",
   "execution_count": 15,
   "metadata": {},
   "outputs": [],
   "source": [
    "X_train, X_test, y_train, y_test = model_selection.train_test_split(X, y, test_size=0.25)"
   ]
  },
  {
   "cell_type": "code",
   "execution_count": 79,
   "metadata": {},
   "outputs": [],
   "source": [
    "# Добавление регуляризации\n",
    "# Добавлен коэффициент b0 в алгоритм предсказывания\n",
    "\n",
    "def sgb_predict(X, trees_list, coef_list, eta, b0=0, lambda_=1e-8):\n",
    "    return np.array([sum([lambda_ * np.sign(coef) + b0 + eta* coef * alg.predict([x])[0] for alg, coef in zip(trees_list, coef_list)]) for x in X])"
   ]
  },
  {
   "cell_type": "code",
   "execution_count": 80,
   "metadata": {},
   "outputs": [],
   "source": [
    "def sgb_fit(iterations, max_depth, X, y, coefs, eta, b0_start='zero'):\n",
    "    \n",
    "    b0 = 0\n",
    "    \n",
    "    if b0_start != 'zero':\n",
    "        b0 = np.mean(y_train)\n",
    "       \n",
    "    \n",
    "    # Деревья будем записывать в список\n",
    "    trees = []\n",
    "    \n",
    "    # Будем записывать ошибки на обучающей и тестовой выборке на каждой итерации в список\n",
    "    train_errors = []\n",
    "    test_errors = []\n",
    "    \n",
    "    for i in range(iterations):\n",
    "        \n",
    "        tree = DecisionTreeRegressor(max_depth=max_depth, random_state=42)\n",
    "        X_train, X_test, y_train, y_test = model_selection.train_test_split(X, y, test_size=0.50)\n",
    "        \n",
    "        target = sgb_predict(X_train, trees, coefs, eta, b0)\n",
    "        tree.fit(X_train, bias(y_train, target))\n",
    "        train_errors.append(mean_squared_error(y_train, sgb_predict(X_train, trees, coefs, eta)))\n",
    "        test_errors.append(mean_squared_error(y_test, sgb_predict(X_test, trees, coefs, eta)))\n",
    "        \n",
    "        trees.append(tree)\n",
    "        \n",
    "    return trees, train_errors, test_errors"
   ]
  },
  {
   "cell_type": "code",
   "execution_count": 81,
   "metadata": {},
   "outputs": [
    {
     "name": "stdout",
     "output_type": "stream",
     "text": [
      "[5649.6822583075]\n",
      "[5763.371778290531]\n",
      "[5649.6822583075, 3939.844929446407]\n",
      "[5763.371778290531, 4166.304679982304]\n",
      "[5649.6822583075, 3939.844929446407, 3438.2294144457364]\n",
      "[5763.371778290531, 4166.304679982304, 3334.212207728982]\n",
      "[5649.6822583075, 3939.844929446407, 3438.2294144457364, 2979.9984340016094]\n",
      "[5763.371778290531, 4166.304679982304, 3334.212207728982, 2943.6860148008936]\n",
      "[5649.6822583075, 3939.844929446407, 3438.2294144457364, 2979.9984340016094, 3340.5990289869333]\n",
      "[5763.371778290531, 4166.304679982304, 3334.212207728982, 2943.6860148008936, 3412.8458806537733]\n",
      "[5649.6822583075, 3939.844929446407, 3438.2294144457364, 2979.9984340016094, 3340.5990289869333, 2262.603190590214]\n",
      "[5763.371778290531, 4166.304679982304, 3334.212207728982, 2943.6860148008936, 3412.8458806537733, 2244.956104328199]\n",
      "[5649.6822583075, 3939.844929446407, 3438.2294144457364, 2979.9984340016094, 3340.5990289869333, 2262.603190590214, 2844.236891484794]\n",
      "[5763.371778290531, 4166.304679982304, 3334.212207728982, 2943.6860148008936, 3412.8458806537733, 2244.956104328199, 2719.2994606557872]\n",
      "[5649.6822583075, 3939.844929446407, 3438.2294144457364, 2979.9984340016094, 3340.5990289869333, 2262.603190590214, 2844.236891484794, 2162.929678331732]\n",
      "[5763.371778290531, 4166.304679982304, 3334.212207728982, 2943.6860148008936, 3412.8458806537733, 2244.956104328199, 2719.2994606557872, 2189.0748794986257]\n",
      "[5649.6822583075, 3939.844929446407, 3438.2294144457364, 2979.9984340016094, 3340.5990289869333, 2262.603190590214, 2844.236891484794, 2162.929678331732, 2140.527240009303]\n",
      "[5763.371778290531, 4166.304679982304, 3334.212207728982, 2943.6860148008936, 3412.8458806537733, 2244.956104328199, 2719.2994606557872, 2189.0748794986257, 2134.3226628525013]\n"
     ]
    }
   ],
   "source": [
    "# Число деревьев в ансамбле\n",
    "iterations = 10\n",
    "\n",
    "\n",
    "# для простоты примем коэффициенты равными 1\n",
    "coefs = [1] * iterations\n",
    "\n",
    "# Максимальная глубина деревьев\n",
    "max_depth_start = 3\n",
    "\n",
    "# Шаг\n",
    "eta = 1\n",
    "\n",
    "# Начальный алгоритм. Режимы работы описаны перед инициализацией gb_fit\n",
    "b0_mode = 'zero'\n",
    "\n",
    "train_error_list = []\n",
    "test_error_list = []\n",
    "\n",
    "while iterations < 100:\n",
    "    coefs = [1] * iterations\n",
    "    trees, train_errors, test_errors = sgb_fit(iterations, max_depth_start, X_train, y_train, coefs, eta, b0_mode)\n",
    "    train_error_list.append(np.mean(train_errors))\n",
    "    test_error_list.append(np.mean(test_errors))\n",
    "    print(train_error_list)\n",
    "    print(test_error_list)\n",
    "    \n",
    "    iterations += 10"
   ]
  },
  {
   "cell_type": "code",
   "execution_count": 82,
   "metadata": {},
   "outputs": [],
   "source": [
    "def get_error_iterations_plot(iterations, train_err, test_err):\n",
    "    plt.xlabel(\"Iteration's value\")\n",
    "    plt.ylabel(\"Error's value\")\n",
    "    plt.plot(iterations, train_err, label='train error')\n",
    "    plt.plot(iterations, test_err, label='test error')\n",
    "    \n",
    "    plt.legend(loc='upper right')\n",
    "    plt.show()"
   ]
  },
  {
   "cell_type": "code",
   "execution_count": 85,
   "metadata": {},
   "outputs": [
    {
     "data": {
      "image/png": "[encoded data removed]",
      "text/plain": [
       "<Figure size 432x288 with 1 Axes>"
      ]
     },
     "metadata": {
      "needs_background": "light"
     },
     "output_type": "display_data"
    }
   ],
   "source": [
    "iterations = []\n",
    "for i in range(1, 10):\n",
    "    iterations.append(i * 10)\n",
    "get_error_iterations_plot(iterations, train_error_list, test_error_list)"
   ]
  },
  {
   "cell_type": "code",
   "execution_count": null,
   "metadata": {},
   "outputs": [],
   "source": []
  }
 ],
 "metadata": {
  "colab": {
   "collapsed_sections": [
    "Rg5ilDbTbshs",
    "Z2tMUhhXbsjK"
   ],
   "name": "Lesson_6(edited).ipynb",
   "provenance": []
  },
  "kernelspec": {
   "display_name": "Python 3",
   "language": "python",
   "name": "python3"
  },
  "language_info": {
   "codemirror_mode": {
    "name": "ipython",
    "version": 3
   },
   "file_extension": ".py",
   "mimetype": "text/x-python",
   "name": "python",
   "nbconvert_exporter": "python",
   "pygments_lexer": "ipython3",
   "version": "3.7.7"
  }
 },
 "nbformat": 4,
 "nbformat_minor": 1
}
