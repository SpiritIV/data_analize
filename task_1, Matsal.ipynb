{
 "cells": [
  {
   "cell_type": "code",
   "execution_count": 1,
   "metadata": {
    "colab": {},
    "colab_type": "code",
    "id": "ak8b3KV45kVW"
   },
   "outputs": [],
   "source": [
    "import numpy as np\n",
    "import matplotlib.pyplot as plt"
   ]
  },
  {
   "cell_type": "code",
   "execution_count": 2,
   "metadata": {},
   "outputs": [],
   "source": [
    "X = np.array([[1, 1, 1, 1, 1, 1, 1, 1, 1, 1],\n",
    "              [1, 1, 2, 1, 3, 0, 5, 10, 1, 2]])\n",
    "\n",
    "y = [45, 55, 50, 59, 65, 35, 75, 80, 50, 60]"
   ]
  },
  {
   "cell_type": "code",
   "execution_count": 3,
   "metadata": {
    "colab": {},
    "colab_type": "code",
    "id": "JTSC2cFnCd8T"
   },
   "outputs": [],
   "source": [
    "def calc_mse(y, y_pred):\n",
    "    err = np.mean((y - y_pred)**2)\n",
    "    return err"
   ]
  },
  {
   "cell_type": "markdown",
   "metadata": {},
   "source": [
    "Задание 1. Подберите скорость обучения (alpha) и количество итераций."
   ]
  },
  {
   "cell_type": "code",
   "execution_count": 4,
   "metadata": {
    "colab": {
     "base_uri": "https://localhost:8080/",
     "height": 34
    },
    "colab_type": "code",
    "id": "VEXjDozNHdAo",
    "outputId": "7d12bb79-21b7-43fb-fd8e-d116a2af3bb7"
   },
   "outputs": [
    {
     "data": {
      "text/plain": [
       "(array([1. , 0.5]), 1e-12)"
      ]
     },
     "execution_count": 4,
     "metadata": {},
     "output_type": "execute_result"
    }
   ],
   "source": [
    "n = X.shape[1]\n",
    "alpha = 1e-12\n",
    "W = np.array([1, 0.5])\n",
    "W, alpha"
   ]
  },
  {
   "cell_type": "code",
   "execution_count": 5,
   "metadata": {
    "colab": {
     "base_uri": "https://localhost:8080/",
     "height": 185
    },
    "colab_type": "code",
    "id": "IDB22MQKMYaJ",
    "outputId": "4c03219e-a57c-4583-f439-6699fd0619bb"
   },
   "outputs": [
    {
     "name": "stdout",
     "output_type": "stream",
     "text": [
      "0 [1.  0.5] 3173.15\n",
      "100 [1.00000001 0.50000003] 3173.1499872255945\n",
      "200 [1.00000002 0.50000007] 3173.1499744511884\n",
      "300 [1.00000003 0.5000001 ] 3173.149961676783\n",
      "400 [1.00000004 0.50000014] 3173.1499489023777\n",
      "500 [1.00000006 0.50000017] 3173.149936127972\n",
      "600 [1.00000007 0.5000002 ] 3173.149923353566\n",
      "700 [1.00000008 0.50000024] 3173.1499105791604\n",
      "800 [1.00000009 0.50000027] 3173.1498978047557\n",
      "900 [1.0000001  0.50000031] 3173.1498850303497\n"
     ]
    }
   ],
   "source": [
    "for i in range(1000):\n",
    "    y_pred = np.dot(W, X)\n",
    "    err = calc_mse(y, y_pred)\n",
    "    for ii in range(W.shape[0]):\n",
    "        W[ii] -= alpha * (1/n * 2 * np.sum(X[ii] * (y_pred - y)))\n",
    "    if i % 100 == 0:\n",
    "        print(i, W, err)"
   ]
  },
  {
   "cell_type": "markdown",
   "metadata": {
    "colab_type": "text",
    "id": "5Qu1o4JhZYwI"
   },
   "source": [
    "*2. В этом коде мы избавляемся от итераций по весам, но тут есть ошибка, исправьте ее:"
   ]
  },
  {
   "cell_type": "code",
   "execution_count": 6,
   "metadata": {
    "colab": {
     "base_uri": "https://localhost:8080/",
     "height": 185
    },
    "colab_type": "code",
    "id": "WZZzDCQLY4pA",
    "outputId": "28f58ade-72f2-4381-809d-2417752d56e4"
   },
   "outputs": [
    {
     "name": "stdout",
     "output_type": "stream",
     "text": [
      "0 [1.  0.5] 3173.15\n",
      "100 [1.00000001 0.50000003] 3173.1499872255945\n",
      "200 [1.00000002 0.50000007] 3173.1499744511884\n",
      "300 [1.00000003 0.5000001 ] 3173.149961676783\n",
      "400 [1.00000004 0.50000014] 3173.1499489023777\n",
      "500 [1.00000006 0.50000017] 3173.149936127972\n",
      "600 [1.00000007 0.5000002 ] 3173.149923353566\n",
      "700 [1.00000008 0.50000024] 3173.1499105791604\n",
      "800 [1.00000009 0.50000027] 3173.1498978047557\n",
      "900 [1.0000001  0.50000031] 3173.1498850303497\n"
     ]
    }
   ],
   "source": [
    "X = np.array([[1, 1, 1, 1, 1, 1, 1, 1, 1, 1],\n",
    "              [1, 1, 2, 1, 3, 0, 5, 10, 1, 2]])\n",
    "\n",
    "y = [45, 55, 50, 59, 65, 35, 75, 80, 50, 60]\n",
    "\n",
    "n = X.shape[1]\n",
    "alpha = 1e-12\n",
    "W = np.array([1, 0.5])\n",
    "\n",
    "for i in range(1000):\n",
    "    y_pred = np.dot(W, X)\n",
    "    err = calc_mse(y, y_pred)\n",
    "    W[0] -= (alpha * (1/n * 2 * np.sum(X[0] * (y_pred - y))))\n",
    "    W[1] -= (alpha * (1/n * 2 * np.sum(X[1] * (y_pred - y))))\n",
    "    if i % 100 == 0:\n",
    "        print(i, W, err)"
   ]
  },
  {
   "cell_type": "markdown",
   "metadata": {
    "colab": {},
    "colab_type": "code",
    "id": "_OQ4arrXMYGb"
   },
   "source": [
    "Задание *3: вместо того, чтобы задавать количество итераций, задайте условие остановки алгоритма - когда ошибка за итерацию\n",
    "начинает изменяться ниже определенного порога (упрощенный аналог параметра tol в линейной регрессии в sklearn)."
   ]
  },
  {
   "cell_type": "code",
   "execution_count": 13,
   "metadata": {
    "colab": {},
    "colab_type": "code",
    "id": "kGLyytFgHdco"
   },
   "outputs": [
    {
     "name": "stdout",
     "output_type": "stream",
     "text": [
      "Всего итераций: 60004. \n",
      "Матрица весов: [1.  0.5]. \n",
      "Итоговое значение ошибки: 1.277439878322184e-07\n"
     ]
    }
   ],
   "source": [
    "X = np.array([[1, 1, 1, 1, 1, 1, 1, 1, 1, 1],\n",
    "              [1, 1, 2, 1, 3, 0, 5, 10, 1, 2]])\n",
    "\n",
    "y = [45, 55, 50, 59, 65, 35, 75, 80, 50, 60]\n",
    "\n",
    "n = X.shape[1]\n",
    "alpha = 1e-6\n",
    "W = np.array([1, 0.5])\n",
    "\n",
    "# Требуемая точность\n",
    "err_req = 1e-6\n",
    "\n",
    "# Начальная ошибка\n",
    "err = 100\n",
    "\n",
    "# Число итераций цикла\n",
    "j = 0\n",
    "\n",
    "# Индикатор необходимости понижения скорости обучения\n",
    "i = 0\n",
    "\n",
    "while err > err_req:\n",
    "    y_pred_1 = np.dot(W, X)\n",
    "    \n",
    "    W[0] -= (alpha * (1/n * 2 * np.sum(X[0] * (y_pred_1 - y))))\n",
    "    W[1] -= (alpha * (1/n * 2 * np.sum(X[1] * (y_pred_1 - y))))\n",
    "    \n",
    "    y_pred_2 = np.dot(W, X)\n",
    "    err = abs(calc_mse(y, y_pred_2) - calc_mse(y, y_pred_1))\n",
    "    \n",
    "    i += 1\n",
    "    j += 1\n",
    "    \n",
    "    if i > 20000:\n",
    "        alpha /= 100\n",
    "        i = 0\n",
    "        X = np.array([[1, 1, 1, 1, 1, 1, 1, 1, 1, 1],\n",
    "              [1, 1, 2, 1, 3, 0, 5, 10, 1, 2]])\n",
    "        W = np.array([1, 0.5])\n",
    "    \n",
    "print(f'Всего итераций: {j}. \\nМатрица весов: {W}. \\nИтоговое значение ошибки: {err}')"
   ]
  },
  {
   "cell_type": "code",
   "execution_count": null,
   "metadata": {},
   "outputs": [],
   "source": []
  },
  {
   "cell_type": "code",
   "execution_count": null,
   "metadata": {},
   "outputs": [],
   "source": []
  }
 ],
 "metadata": {
  "colab": {
   "collapsed_sections": [],
   "name": "Lesson1.ipynb",
   "provenance": []
  },
  "kernelspec": {
   "display_name": "Python 3",
   "language": "python",
   "name": "python3"
  },
  "language_info": {
   "codemirror_mode": {
    "name": "ipython",
    "version": 3
   },
   "file_extension": ".py",
   "mimetype": "text/x-python",
   "name": "python",
   "nbconvert_exporter": "python",
   "pygments_lexer": "ipython3",
   "version": "3.7.7"
  }
 },
 "nbformat": 4,
 "nbformat_minor": 1
}
